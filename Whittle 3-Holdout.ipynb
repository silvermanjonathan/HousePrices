{
 "cells": [
  {
   "cell_type": "code",
   "execution_count": 1,
   "metadata": {},
   "outputs": [],
   "source": [
    "import pandas as pd\n",
    "pd.set_option('display.max_columns', 300)\n",
    "pd.set_option('display.max_rows', 200)\n",
    "\n",
    "import datetime\n",
    "\n",
    "import numpy as np\n",
    "from matplotlib import pyplot as plt\n",
    "from sklearn import linear_model\n",
    "from sklearn.linear_model import LinearRegression\n",
    "from sklearn.model_selection import train_test_split\n",
    "from sklearn import metrics\n",
    "from sklearn.preprocessing import PolynomialFeatures\n",
    "from sklearn.preprocessing import StandardScaler\n",
    "import seaborn as sns\n",
    "sns.set(style=\"whitegrid\")"
   ]
  },
  {
   "cell_type": "code",
   "execution_count": 2,
   "metadata": {},
   "outputs": [],
   "source": [
    "\n",
    "\n",
    "import pickle\n",
    "# Save\n",
    "with open('regression_model.pickle', 'rb') as f:\n",
    "    lm = pickle.load(f)\n",
    "    \n",
    "with open('features.pickle', \"rb\") as f:\n",
    "    features = pickle.load(f)\n",
    "\n"
   ]
  },
  {
   "cell_type": "code",
   "execution_count": 3,
   "metadata": {},
   "outputs": [],
   "source": [
    "def comma_be_gone_into_int(x):\n",
    "    return int(x.replace(',',''))\n",
    "\n",
    "def new_string(number):\n",
    "    \n",
    "    new_string = df.date[number].replace(\"T000000\",'')\n",
    "    \n",
    "    new_string =  new_string[:4] + \"-\" + new_string[4:]\n",
    "    \n",
    "    new_string =  new_string[:7] + \"-\" + new_string[7:]\n",
    "    \n",
    "    return new_string\n",
    "\n",
    "def into_time(string):\n",
    "    return datetime.datetime.strptime(string, \"%Y-%m-%d\")"
   ]
  },
  {
   "cell_type": "code",
   "execution_count": 4,
   "metadata": {},
   "outputs": [],
   "source": [
    "df = pd.read_csv('kc_house_data_test_features.csv')"
   ]
  },
  {
   "cell_type": "code",
   "execution_count": null,
   "metadata": {},
   "outputs": [],
   "source": []
  },
  {
   "cell_type": "code",
   "execution_count": 5,
   "metadata": {},
   "outputs": [],
   "source": [
    "\n",
    "\n",
    "df.rename(columns = {'Unnamed: 0': 'index'}, inplace = True)\n",
    "\n",
    "df.set_index('index', inplace = True)\n",
    "\n",
    "\n",
    "\n",
    "zip_money_df = pd.read_csv('Seatle_Income_Population.csv')\n",
    "\n",
    "zip_money_df['income'] = [comma_be_gone_into_int(x) for x in zip_money_df.income]\n",
    "\n",
    "zip_money_df['population'] = [comma_be_gone_into_int(x) for x in zip_money_df.population]\n",
    "\n",
    "zip_money_dict = dict(zip(zip_money_df.zipcode.values, zip_money_df.income.values))\n",
    "\n",
    "zip_population_dict = dict(zip(zip_money_df.zipcode.values, zip_money_df.population.values))\n",
    "\n",
    "\n",
    "average_money = round(np.mean(list(zip_money_dict.values())[:-3]))\n",
    "\n",
    "average_population = round(np.mean(list(zip_population_dict.values())))\n",
    "\n",
    "\n",
    "income = []\n",
    "\n",
    "for i in df.zipcode.values:\n",
    "    income.append(zip_money_dict.get(i,average_money))\n",
    "\n",
    "df['income'] = np.array(income)\n",
    "\n",
    "\n",
    "\n",
    "population = []\n",
    "\n",
    "for i in df.zipcode.values:\n",
    "    population.append(zip_population_dict.get(i,average_population))\n",
    "\n",
    "df['population'] = np.array(population)\n",
    "\n",
    "\n",
    "\n",
    "\n",
    "df['sold_time'] = [into_time(i) for i in [new_string(i) for i in range(len(df))]]\n",
    "df['years_ago_sold'] = abs(pd.DatetimeIndex(df['sold_time']).year - 2021)\n",
    "\n"
   ]
  },
  {
   "cell_type": "code",
   "execution_count": 6,
   "metadata": {
    "scrolled": true
   },
   "outputs": [],
   "source": [
    "df = pd.get_dummies(df, columns=['zipcode', 'view',  'condition'], drop_first=True)"
   ]
  },
  {
   "cell_type": "code",
   "execution_count": 7,
   "metadata": {},
   "outputs": [],
   "source": [
    "def last_touched(row):\n",
    "    yr_updated = 2016 - max(row['yr_built'], row['yr_renovated'])\n",
    "    row['yr_updated'] = yr_updated\n",
    "    return row"
   ]
  },
  {
   "cell_type": "code",
   "execution_count": 8,
   "metadata": {},
   "outputs": [],
   "source": [
    "\n",
    "df = df.drop(['sold_time','date', 'id', 'lat', 'long'], axis = 1)"
   ]
  },
  {
   "cell_type": "code",
   "execution_count": 9,
   "metadata": {},
   "outputs": [],
   "source": [
    "yr_renovated_minus_yr_built = []\n",
    "\n",
    "for i in range(len(df)): \n",
    "\n",
    "    if df.yr_renovated[i] == 0:\n",
    "        yr_renovated_minus_yr_built.append(0)\n",
    "    else:\n",
    "        yr_renovated_minus_yr_built.append(df.yr_renovated[i] - df.yr_built[i])\n",
    "\n",
    "df[\"renovated_after\"] = yr_renovated_minus_yr_built"
   ]
  },
  {
   "cell_type": "code",
   "execution_count": 10,
   "metadata": {},
   "outputs": [],
   "source": [
    "df['yr_built'] = abs(df.yr_built- 2021)"
   ]
  },
  {
   "cell_type": "markdown",
   "metadata": {},
   "source": [
    "Statistical analysis showed the condition variable is categorical and has an affect on mean prices. I used one-hot encoding and dropped one of the variables to avoid multicollinearity."
   ]
  },
  {
   "cell_type": "markdown",
   "metadata": {},
   "source": [
    "The model is pickled and ready to try on the holdout data. "
   ]
  },
  {
   "cell_type": "code",
   "execution_count": 11,
   "metadata": {},
   "outputs": [
    {
     "data": {
      "text/plain": [
       "93"
      ]
     },
     "execution_count": 11,
     "metadata": {},
     "output_type": "execute_result"
    }
   ],
   "source": [
    "len(features)"
   ]
  },
  {
   "cell_type": "code",
   "execution_count": 12,
   "metadata": {},
   "outputs": [
    {
     "data": {
      "text/plain": [
       "Index(['bedrooms', 'bathrooms', 'sqft_living', 'sqft_lot', 'floors',\n",
       "       'waterfront', 'grade', 'sqft_above', 'sqft_basement', 'yr_built',\n",
       "       'yr_renovated', 'sqft_living15', 'sqft_lot15', 'income', 'population',\n",
       "       'years_ago_sold', 'zipcode_98002', 'zipcode_98003', 'zipcode_98004',\n",
       "       'zipcode_98005', 'zipcode_98006', 'zipcode_98007', 'zipcode_98008',\n",
       "       'zipcode_98010', 'zipcode_98011', 'zipcode_98014', 'zipcode_98019',\n",
       "       'zipcode_98022', 'zipcode_98023', 'zipcode_98024', 'zipcode_98027',\n",
       "       'zipcode_98028', 'zipcode_98029', 'zipcode_98030', 'zipcode_98031',\n",
       "       'zipcode_98032', 'zipcode_98033', 'zipcode_98034', 'zipcode_98038',\n",
       "       'zipcode_98039', 'zipcode_98040', 'zipcode_98042', 'zipcode_98045',\n",
       "       'zipcode_98052', 'zipcode_98053', 'zipcode_98055', 'zipcode_98056',\n",
       "       'zipcode_98058', 'zipcode_98059', 'zipcode_98065', 'zipcode_98070',\n",
       "       'zipcode_98072', 'zipcode_98074', 'zipcode_98075', 'zipcode_98077',\n",
       "       'zipcode_98092', 'zipcode_98102', 'zipcode_98103', 'zipcode_98105',\n",
       "       'zipcode_98106', 'zipcode_98107', 'zipcode_98108', 'zipcode_98109',\n",
       "       'zipcode_98112', 'zipcode_98115', 'zipcode_98116', 'zipcode_98117',\n",
       "       'zipcode_98118', 'zipcode_98119', 'zipcode_98122', 'zipcode_98125',\n",
       "       'zipcode_98126', 'zipcode_98133', 'zipcode_98136', 'zipcode_98144',\n",
       "       'zipcode_98146', 'zipcode_98148', 'zipcode_98155', 'zipcode_98166',\n",
       "       'zipcode_98168', 'zipcode_98177', 'zipcode_98178', 'zipcode_98188',\n",
       "       'zipcode_98198', 'zipcode_98199', 'view_1', 'view_2', 'view_3',\n",
       "       'view_4', 'condition_2', 'condition_3', 'condition_4', 'condition_5',\n",
       "       'renovated_after'],\n",
       "      dtype='object')"
      ]
     },
     "execution_count": 12,
     "metadata": {},
     "output_type": "execute_result"
    }
   ],
   "source": [
    "df.columns"
   ]
  },
  {
   "cell_type": "code",
   "execution_count": 14,
   "metadata": {},
   "outputs": [],
   "source": [
    "\n",
    "final_answer = lm.predict(df)"
   ]
  },
  {
   "cell_type": "code",
   "execution_count": 15,
   "metadata": {},
   "outputs": [],
   "source": [
    "final_answer_df = pd.DataFrame(final_answer)"
   ]
  },
  {
   "cell_type": "code",
   "execution_count": 16,
   "metadata": {},
   "outputs": [],
   "source": [
    "final_answer_df.to_csv('housing_preds_Silverman.csv')"
   ]
  }
 ],
 "metadata": {
  "kernelspec": {
   "display_name": "Python 3",
   "language": "python",
   "name": "python3"
  },
  "language_info": {
   "codemirror_mode": {
    "name": "ipython",
    "version": 3
   },
   "file_extension": ".py",
   "mimetype": "text/x-python",
   "name": "python",
   "nbconvert_exporter": "python",
   "pygments_lexer": "ipython3",
   "version": "3.8.5"
  }
 },
 "nbformat": 4,
 "nbformat_minor": 4
}
