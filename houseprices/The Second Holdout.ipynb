{
 "cells": [
  {
   "cell_type": "code",
   "execution_count": 58,
   "metadata": {},
   "outputs": [],
   "source": [
    "import pandas as pd\n",
    "pd.set_option('display.max_columns', 300)\n",
    "pd.set_option('display.max_rows', 200)\n",
    "\n",
    "import datetime\n",
    "\n",
    "import numpy as np\n",
    "from matplotlib import pyplot as plt\n",
    "from sklearn import linear_model\n",
    "from sklearn.linear_model import LinearRegression\n",
    "from sklearn.model_selection import train_test_split\n",
    "from sklearn import metrics\n",
    "from sklearn.preprocessing import PolynomialFeatures\n",
    "from sklearn.preprocessing import StandardScaler\n",
    "import seaborn as sns\n",
    "sns.set(style=\"whitegrid\")"
   ]
  },
  {
   "cell_type": "code",
   "execution_count": 59,
   "metadata": {},
   "outputs": [],
   "source": [
    "df = pd.read_csv('kc_house_data_test_features.csv')\n",
    "\n",
    "df.rename(columns = {'Unnamed: 0': 'index'}, inplace = True)\n",
    "\n",
    "df.set_index('index', inplace = True)"
   ]
  },
  {
   "cell_type": "code",
   "execution_count": 60,
   "metadata": {},
   "outputs": [],
   "source": [
    "def comma_be_gone_into_int(x):\n",
    "    return int(x.replace(',',''))\n",
    "\n",
    "def new_string(number):\n",
    "    \n",
    "    new_string = df.date[number].replace(\"T000000\",'')\n",
    "    \n",
    "    new_string =  new_string[:4] + \"-\" + new_string[4:]\n",
    "    \n",
    "    new_string =  new_string[:7] + \"-\" + new_string[7:]\n",
    "    \n",
    "    return new_string\n",
    "\n",
    "def into_time(string):\n",
    "    return datetime.datetime.strptime(string, \"%Y-%m-%d\")"
   ]
  },
  {
   "cell_type": "code",
   "execution_count": 61,
   "metadata": {},
   "outputs": [],
   "source": [
    "zip_money_df = pd.read_csv('Seatle_Income_Population.csv')\n",
    "\n",
    "zip_money_df['income'] = [comma_be_gone_into_int(x) for x in zip_money_df.income]\n",
    "\n",
    "zip_money_df['population'] = [comma_be_gone_into_int(x) for x in zip_money_df.population]\n",
    "\n",
    "zip_money_dict = dict(zip(zip_money_df.zipcode.values, zip_money_df.income.values))\n",
    "\n",
    "zip_population_dict = dict(zip(zip_money_df.zipcode.values, zip_money_df.population.values))\n",
    "\n",
    "\n",
    "average_money = round(np.mean(list(zip_money_dict.values())[:-3]))\n",
    "\n",
    "average_population = round(np.mean(list(zip_population_dict.values())))\n",
    "\n",
    "\n",
    "income = []\n",
    "\n",
    "for i in df.zipcode.values:\n",
    "    income.append(zip_money_dict.get(i,average_money))\n",
    "\n",
    "df['income'] = np.array(income)\n",
    "\n",
    "\n",
    "\n",
    "population = []\n",
    "\n",
    "for i in df.zipcode.values:\n",
    "    population.append(zip_population_dict.get(i,average_population))\n",
    "\n",
    "df['population'] = np.array(population)\n",
    "\n",
    "\n",
    "\n",
    "\n",
    "df['sold_time'] = [into_time(i) for i in [new_string(i) for i in range(len(df))]]\n",
    "df['years_ago_sold'] = abs(pd.DatetimeIndex(df['sold_time']).year - 2021)\n",
    "\n",
    "\n",
    "df = df.drop(['sold_time','date', 'id', 'lat', 'long', \"waterfront\", 'grade', 'view', 'zipcode'], axis = 1)\n",
    "\n",
    "\n",
    "yr_renovated_minus_yr_built = []\n",
    "\n",
    "for i in range(len(df)): \n",
    "\n",
    "    if df.yr_renovated[i] == 0:\n",
    "        yr_renovated_minus_yr_built.append(0)\n",
    "    else:\n",
    "        yr_renovated_minus_yr_built.append(df.yr_renovated[i] - df.yr_built[i])\n",
    "\n",
    "df[\"renovated_after\"] = yr_renovated_minus_yr_built\n",
    "\n",
    "df['yr_built'] = abs(df.yr_built- 2021)\n",
    "\n",
    "dummy = pd.get_dummies(df.condition)\n",
    "\n",
    "df_condition = pd.concat([dummy,df], axis = 1)\n",
    "\n",
    "dummy = pd.get_dummies(df.condition)\n",
    "\n",
    "df_condition = pd.concat([dummy,df], axis = 1)\n",
    "\n",
    "df_condition = df_condition[[1,2,3,4,5]]\n",
    "\n",
    "df_condition.columns = ['Condition_1',\"Condition_2\",\"Condition_3\",\"Condition_4\",\"Condition_5\"]\n",
    "\n",
    "df = pd.concat([df_condition,df], axis = 1)\n",
    "#df = pd.concat([df_grade,df], axis = 1)\n",
    "\n",
    "#drop for multicollinearity\n",
    "df = df.drop([\"Condition_3\", 'condition'], axis = 1)"
   ]
  },
  {
   "cell_type": "markdown",
   "metadata": {},
   "source": [
    "delete up to here"
   ]
  },
  {
   "cell_type": "code",
   "execution_count": 62,
   "metadata": {},
   "outputs": [
    {
     "data": {
      "text/plain": [
       "Index(['Condition_1', 'Condition_2', 'Condition_4', 'Condition_5', 'bedrooms',\n",
       "       'bathrooms', 'sqft_living', 'sqft_lot', 'floors', 'sqft_above',\n",
       "       ...\n",
       "       'income^2', 'income population', 'income years_ago_sold',\n",
       "       'income renovated_after', 'population^2', 'population years_ago_sold',\n",
       "       'population renovated_after', 'years_ago_sold^2',\n",
       "       'years_ago_sold renovated_after', 'renovated_after^2'],\n",
       "      dtype='object', length=209)"
      ]
     },
     "execution_count": 62,
     "metadata": {},
     "output_type": "execute_result"
    }
   ],
   "source": [
    "poly_2 = PolynomialFeatures(degree=2, include_bias=False)\n",
    "poly2_data = poly_2.fit_transform(df)\n",
    "poly2_columns = poly_2.get_feature_names(df.columns)\n",
    "df_poly2 = pd.DataFrame(poly2_data, columns=poly2_columns)\n",
    "\n",
    "df_poly2.columns\n"
   ]
  },
  {
   "cell_type": "code",
   "execution_count": 63,
   "metadata": {},
   "outputs": [
    {
     "data": {
      "text/plain": [
       "(4323, 209)"
      ]
     },
     "execution_count": 63,
     "metadata": {},
     "output_type": "execute_result"
    }
   ],
   "source": [
    "df_poly2.shape\n"
   ]
  },
  {
   "cell_type": "code",
   "execution_count": null,
   "metadata": {},
   "outputs": [],
   "source": []
  },
  {
   "cell_type": "code",
   "execution_count": 64,
   "metadata": {},
   "outputs": [],
   "source": [
    "import pickle\n",
    "\n",
    "# Load the columns I need\n",
    "with open('features.pickle', 'rb') as file:\n",
    "    features = pickle.load(file)\n",
    "\n",
    "with open('regression_model.pickle', 'rb') as f:\n",
    "    lm = pickle.load(f)\n",
    "    \n",
    "with open('scaler.pickle', \"rb\") as f:\n",
    "    scaler2 = pickle.load(f)"
   ]
  },
  {
   "cell_type": "code",
   "execution_count": 65,
   "metadata": {},
   "outputs": [],
   "source": [
    "#df_poly2 = df_poly2.drop(set(list(df_poly2.columns)) - set(list(features)),axis = 1)"
   ]
  },
  {
   "cell_type": "code",
   "execution_count": 67,
   "metadata": {},
   "outputs": [],
   "source": [
    "df_to_fit = scaler2.transform(df_poly2[features])"
   ]
  },
  {
   "cell_type": "code",
   "execution_count": 69,
   "metadata": {},
   "outputs": [
    {
     "data": {
      "text/plain": [
       "array([-2.15879878e+09, -2.15879878e+09,  1.15751537e+09, ...,\n",
       "        3.42376180e+09,  2.83118467e+09,  3.42376180e+09])"
      ]
     },
     "execution_count": 69,
     "metadata": {},
     "output_type": "execute_result"
    }
   ],
   "source": [
    "lm.predict(df_to_fit)"
   ]
  },
  {
   "cell_type": "code",
   "execution_count": 70,
   "metadata": {},
   "outputs": [
    {
     "data": {
      "text/plain": [
       "array([-8.58965155e+04, -1.15272543e+08, -6.51619815e+07,  4.60882222e+06,\n",
       "        1.10904893e+06, -1.10908031e+06, -1.10911444e+06,  3.65940437e+04,\n",
       "       -8.32664279e+04, -3.79208345e+06,  3.79222125e+06,  3.79221365e+06,\n",
       "       -7.39716997e+08,  5.23636462e+07,  8.13603670e+09,  7.39716998e+08,\n",
       "       -5.23636462e+07, -8.13603670e+09,  7.39716997e+08, -5.23636462e+07,\n",
       "       -8.13603670e+09])"
      ]
     },
     "execution_count": 70,
     "metadata": {},
     "output_type": "execute_result"
    }
   ],
   "source": [
    "lm.coef_"
   ]
  },
  {
   "cell_type": "code",
   "execution_count": 71,
   "metadata": {},
   "outputs": [
    {
     "data": {
      "text/plain": [
       "560432.3268041454"
      ]
     },
     "execution_count": 71,
     "metadata": {},
     "output_type": "execute_result"
    }
   ],
   "source": [
    "np.mean(list(lm.predict(df_poly2[features])))"
   ]
  },
  {
   "cell_type": "code",
   "execution_count": 72,
   "metadata": {},
   "outputs": [
    {
     "data": {
      "text/plain": [
       "['Condition_5',\n",
       " 'Condition_1 Condition_5',\n",
       " 'Condition_1 renovated_after',\n",
       " 'Condition_2 Condition_4',\n",
       " 'Condition_2 sqft_living',\n",
       " 'Condition_2 sqft_above',\n",
       " 'Condition_2 sqft_basement',\n",
       " 'Condition_4^2',\n",
       " 'Condition_5^2',\n",
       " 'Condition_5 sqft_living',\n",
       " 'Condition_5 sqft_above',\n",
       " 'Condition_5 sqft_basement',\n",
       " 'sqft_living sqft_basement',\n",
       " 'sqft_living yr_renovated',\n",
       " 'sqft_living population',\n",
       " 'sqft_above sqft_basement',\n",
       " 'sqft_above yr_renovated',\n",
       " 'sqft_above population',\n",
       " 'sqft_basement^2',\n",
       " 'sqft_basement yr_renovated',\n",
       " 'sqft_basement population']"
      ]
     },
     "execution_count": 72,
     "metadata": {},
     "output_type": "execute_result"
    }
   ],
   "source": [
    "list(features)"
   ]
  },
  {
   "cell_type": "code",
   "execution_count": null,
   "metadata": {},
   "outputs": [],
   "source": []
  },
  {
   "cell_type": "code",
   "execution_count": null,
   "metadata": {},
   "outputs": [],
   "source": []
  }
 ],
 "metadata": {
  "kernelspec": {
   "display_name": "Python 3",
   "language": "python",
   "name": "python3"
  },
  "language_info": {
   "codemirror_mode": {
    "name": "ipython",
    "version": 3
   },
   "file_extension": ".py",
   "mimetype": "text/x-python",
   "name": "python",
   "nbconvert_exporter": "python",
   "pygments_lexer": "ipython3",
   "version": "3.8.5"
  }
 },
 "nbformat": 4,
 "nbformat_minor": 4
}
