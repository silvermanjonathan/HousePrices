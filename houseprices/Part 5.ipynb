{
 "cells": [
  {
   "cell_type": "markdown",
   "metadata": {},
   "source": [
    "5.1 Perform a train-test split of the data."
   ]
  },
  {
   "cell_type": "code",
   "execution_count": 1,
   "metadata": {},
   "outputs": [],
   "source": [
    "import pandas as pd\n",
    "import numpy as np\n",
    "import datetime"
   ]
  },
  {
   "cell_type": "code",
   "execution_count": 2,
   "metadata": {},
   "outputs": [],
   "source": [
    "df = pd.read_csv('kc_house_data_train.csv')\n",
    "df.rename(columns = {'Unnamed: 0': 'index'}, inplace = True)\n",
    "df.set_index('index', inplace = True)"
   ]
  },
  {
   "cell_type": "code",
   "execution_count": 3,
   "metadata": {},
   "outputs": [],
   "source": [
    "def new_string(number):\n",
    "    \n",
    "    new_string = df.date[number].replace(\"T000000\",'')\n",
    "    \n",
    "    new_string =  new_string[:4] + \"-\" + new_string[4:]\n",
    "    \n",
    "    new_string =  new_string[:7] + \"-\" + new_string[7:]\n",
    "    \n",
    "    return new_string\n",
    "\n",
    "def into_time(string):\n",
    "    return datetime.datetime.strptime(string, \"%Y-%m-%d\")\n",
    "    "
   ]
  },
  {
   "cell_type": "code",
   "execution_count": 4,
   "metadata": {},
   "outputs": [],
   "source": [
    "# Continious data from year built: How many years ago was the house built?\n",
    "\n",
    "\n",
    "df['sold_time'] = [into_time(i) for i in [new_string(i) for i in range(len(df))]]\n",
    "df['years_ago_sold'] = abs(pd.DatetimeIndex(df['sold_time']).year - 2021)\n",
    "df['years_ago_sold']\n",
    "\n",
    "\n",
    "# Part 4.2\n",
    "\n",
    "yr_renovated_minus_yr_built = []\n",
    "\n",
    "for i in range(len(df)): \n",
    "\n",
    "    if df.yr_renovated[i] == 0:\n",
    "        yr_renovated_minus_yr_built.append(0)\n",
    "    else:\n",
    "        yr_renovated_minus_yr_built.append(df.yr_renovated[i] - df.yr_built[i])\n",
    "\n",
    "df[\"renovated_after\"] = yr_renovated_minus_yr_built"
   ]
  },
  {
   "cell_type": "markdown",
   "metadata": {},
   "source": [
    "Train-Test Split"
   ]
  },
  {
   "cell_type": "code",
   "execution_count": 5,
   "metadata": {},
   "outputs": [],
   "source": [
    "from sklearn.model_selection import train_test_split\n",
    "\n",
    "y = df.price\n",
    "X = df.drop(['price','date','sold_time'], axis=1)\n",
    "\n",
    "X_train, X_test, y_train, y_test = train_test_split(X, y, test_size=0.2, random_state=42)"
   ]
  },
  {
   "cell_type": "code",
   "execution_count": 6,
   "metadata": {
    "scrolled": true
   },
   "outputs": [],
   "source": [
    "from sklearn.linear_model import LinearRegression\n",
    "linreg = LinearRegression()\n",
    "linreg.fit(X_train, y_train)\n",
    "\n",
    "y_hat_train = linreg.predict(X_train)\n",
    "y_hat_test = linreg.predict(X_test)"
   ]
  },
  {
   "cell_type": "code",
   "execution_count": 63,
   "metadata": {},
   "outputs": [
    {
     "name": "stdout",
     "output_type": "stream",
     "text": [
      "Train Mean Squarred Error: 42470052271.12945\n",
      "Test Mean Squarred Error: 39509796769.40926\n"
     ]
    }
   ],
   "source": [
    "train_residuals = y_hat_train - y_train\n",
    "test_residuals = y_hat_test - y_test\n",
    "\n",
    "mse_train = np.sum((y_train-y_hat_train)**2)/len(y_train)\n",
    "mse_test = np.sum((y_test-y_hat_test)**2)/len(y_test)\n",
    "print('Train Mean Squarred Error:', mse_train)\n",
    "print('Test Mean Squarred Error:', mse_test)"
   ]
  },
  {
   "cell_type": "markdown",
   "metadata": {},
   "source": [
    "5.2) Fit your scaler to training the data."
   ]
  },
  {
   "cell_type": "markdown",
   "metadata": {},
   "source": [
    "5.3) Transform the testing set with the scaler"
   ]
  },
  {
   "cell_type": "markdown",
   "metadata": {},
   "source": [
    "5.4) Fit the model to the training data"
   ]
  },
  {
   "cell_type": "markdown",
   "metadata": {},
   "source": [
    "5.5) Use the model to predict on the training set and the test set."
   ]
  },
  {
   "cell_type": "markdown",
   "metadata": {},
   "source": [
    "5.6) Evaluate the training and test predictions using RMSE."
   ]
  },
  {
   "cell_type": "markdown",
   "metadata": {},
   "source": [
    "5.7) Determine if your model is overfit."
   ]
  }
 ],
 "metadata": {
  "kernelspec": {
   "display_name": "Python 3",
   "language": "python",
   "name": "python3"
  },
  "language_info": {
   "codemirror_mode": {
    "name": "ipython",
    "version": 3
   },
   "file_extension": ".py",
   "mimetype": "text/x-python",
   "name": "python",
   "nbconvert_exporter": "python",
   "pygments_lexer": "ipython3",
   "version": "3.8.5"
  }
 },
 "nbformat": 4,
 "nbformat_minor": 4
}
