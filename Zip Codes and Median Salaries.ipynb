{
 "cells": [
  {
   "cell_type": "code",
   "execution_count": 53,
   "metadata": {},
   "outputs": [],
   "source": [
    "import pandas as pd\n",
    "pd.set_option('display.max_columns', 300)\n",
    "pd.set_option('display.max_rows', 200)\n",
    "\n",
    "import datetime\n",
    "\n",
    "import numpy as np\n",
    "from matplotlib import pyplot as plt\n",
    "from sklearn import linear_model\n",
    "from sklearn.linear_model import LinearRegression\n",
    "from sklearn.model_selection import train_test_split\n",
    "from sklearn import metrics\n",
    "from sklearn.preprocessing import PolynomialFeatures\n",
    "from sklearn.preprocessing import StandardScaler\n",
    "import seaborn as sns\n",
    "sns.set(style=\"whitegrid\")"
   ]
  },
  {
   "cell_type": "code",
   "execution_count": 54,
   "metadata": {},
   "outputs": [],
   "source": [
    "df = pd.read_csv('kc_house_data_train.csv')\n",
    "df.rename(columns = {'Unnamed: 0': 'index'}, inplace = True)\n",
    "df.set_index('index', inplace = True)"
   ]
  },
  {
   "cell_type": "code",
   "execution_count": 55,
   "metadata": {},
   "outputs": [
    {
     "data": {
      "text/plain": [
       "numpy.int64"
      ]
     },
     "execution_count": 55,
     "metadata": {},
     "output_type": "execute_result"
    }
   ],
   "source": [
    "type(df.zipcode[0])"
   ]
  },
  {
   "cell_type": "code",
   "execution_count": 56,
   "metadata": {},
   "outputs": [
    {
     "data": {
      "text/html": [
       "<div>\n",
       "<style scoped>\n",
       "    .dataframe tbody tr th:only-of-type {\n",
       "        vertical-align: middle;\n",
       "    }\n",
       "\n",
       "    .dataframe tbody tr th {\n",
       "        vertical-align: top;\n",
       "    }\n",
       "\n",
       "    .dataframe thead th {\n",
       "        text-align: right;\n",
       "    }\n",
       "</style>\n",
       "<table border=\"1\" class=\"dataframe\">\n",
       "  <thead>\n",
       "    <tr style=\"text-align: right;\">\n",
       "      <th></th>\n",
       "      <th>id</th>\n",
       "      <th>zipcode</th>\n",
       "      <th>population</th>\n",
       "      <th>income</th>\n",
       "      <th>rank</th>\n",
       "    </tr>\n",
       "  </thead>\n",
       "  <tbody>\n",
       "    <tr>\n",
       "      <th>0</th>\n",
       "      <td>1</td>\n",
       "      <td>98177</td>\n",
       "      <td>18,920</td>\n",
       "      <td>65,514</td>\n",
       "      <td>2,076</td>\n",
       "    </tr>\n",
       "    <tr>\n",
       "      <th>1</th>\n",
       "      <td>2</td>\n",
       "      <td>98112</td>\n",
       "      <td>20,480</td>\n",
       "      <td>59,693</td>\n",
       "      <td>3,074</td>\n",
       "    </tr>\n",
       "    <tr>\n",
       "      <th>2</th>\n",
       "      <td>3</td>\n",
       "      <td>98199</td>\n",
       "      <td>19,156</td>\n",
       "      <td>59,542</td>\n",
       "      <td>3,103</td>\n",
       "    </tr>\n",
       "    <tr>\n",
       "      <th>3</th>\n",
       "      <td>4</td>\n",
       "      <td>98115</td>\n",
       "      <td>43,567</td>\n",
       "      <td>58,475</td>\n",
       "      <td>3,273</td>\n",
       "    </tr>\n",
       "    <tr>\n",
       "      <th>4</th>\n",
       "      <td>5</td>\n",
       "      <td>98136</td>\n",
       "      <td>14,138</td>\n",
       "      <td>56,455</td>\n",
       "      <td>3,765</td>\n",
       "    </tr>\n",
       "  </tbody>\n",
       "</table>\n",
       "</div>"
      ],
      "text/plain": [
       "   id  zipcode population  income   rank\n",
       "0   1    98177     18,920  65,514  2,076\n",
       "1   2    98112     20,480  59,693  3,074\n",
       "2   3    98199     19,156  59,542  3,103\n",
       "3   4    98115     43,567  58,475  3,273\n",
       "4   5    98136     14,138  56,455  3,765"
      ]
     },
     "execution_count": 56,
     "metadata": {},
     "output_type": "execute_result"
    }
   ],
   "source": [
    "zip_money_df = pd.read_csv('Seatle_Income_Population.csv')\n",
    "zip_money_df.head()"
   ]
  },
  {
   "cell_type": "code",
   "execution_count": 57,
   "metadata": {},
   "outputs": [],
   "source": [
    "def comma_be_gone_into_int(x):\n",
    "    return int(x.replace(',',''))\n",
    "    "
   ]
  },
  {
   "cell_type": "code",
   "execution_count": 58,
   "metadata": {},
   "outputs": [],
   "source": [
    "zip_money_df['income'] = [comma_be_gone_into_int(x) for x in zip_money_df.income]\n",
    "zip_money_df['population'] = [comma_be_gone_into_int(x) for x in zip_money_df.population]"
   ]
  },
  {
   "cell_type": "code",
   "execution_count": 59,
   "metadata": {},
   "outputs": [],
   "source": [
    "zip_money_dict = dict(zip(zip_money_df.zipcode.values, zip_money_df.income.values))\n",
    "\n",
    "zip_population_dict = dict(zip(zip_money_df.zipcode.values, zip_money_df.population.values))"
   ]
  },
  {
   "cell_type": "code",
   "execution_count": 83,
   "metadata": {},
   "outputs": [],
   "source": [
    "average_money = round(np.mean(list(zip_money_dict.values())[:-3]))\n",
    "average_population = round(np.mean(list(zip_population_dict.values())))"
   ]
  },
  {
   "cell_type": "code",
   "execution_count": 98,
   "metadata": {},
   "outputs": [],
   "source": [
    "income = []\n",
    "\n",
    "for i in df.zipcode.values:\n",
    "    income.append(zip_money_dict.get(i,average_money))\n",
    "\n",
    "df['income'] = np.array(income)\n",
    "\n",
    "\n",
    "population = []\n",
    "\n",
    "for i in df.zipcode.values:\n",
    "    population.append(zip_population_dict.get(i,average_population))\n",
    "\n",
    "df['population'] = np.array(population)"
   ]
  }
 ],
 "metadata": {
  "kernelspec": {
   "display_name": "Python 3",
   "language": "python",
   "name": "python3"
  },
  "language_info": {
   "codemirror_mode": {
    "name": "ipython",
    "version": 3
   },
   "file_extension": ".py",
   "mimetype": "text/x-python",
   "name": "python",
   "nbconvert_exporter": "python",
   "pygments_lexer": "ipython3",
   "version": "3.8.5"
  }
 },
 "nbformat": 4,
 "nbformat_minor": 4
}
